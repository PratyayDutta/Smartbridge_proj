{
  "nbformat": 4,
  "nbformat_minor": 0,
  "metadata": {
    "colab": {
      "provenance": []
    },
    "kernelspec": {
      "name": "python3",
      "display_name": "Python 3"
    },
    "language_info": {
      "name": "python"
    }
  },
  "cells": [
    {
      "cell_type": "code",
      "execution_count": 1,
      "metadata": {
        "colab": {
          "base_uri": "https://localhost:8080/"
        },
        "id": "5rMih6qTHmV1",
        "outputId": "921966ae-e8ea-4274-9e1a-35769cca2c13"
      },
      "outputs": [
        {
          "output_type": "stream",
          "name": "stdout",
          "text": [
            "          A         B         C         D\n",
            "0 -0.131458 -0.712567  0.104909  0.116094\n",
            "1 -2.418344 -0.835665 -1.290377  0.124232\n",
            "2  0.953834 -0.805799 -0.768568  0.245979\n",
            "3  0.766143 -0.811771 -1.181603 -0.444424\n",
            "   Random value 1  Random value 2  Random value 3  Random value 4\n",
            "0       -0.131458       -0.712567        0.104909        0.116094\n",
            "1       -2.418344       -0.835665       -1.290377        0.124232\n",
            "2        0.953834       -0.805799       -0.768568        0.245979\n",
            "3        0.766143       -0.811771       -1.181603       -0.444424\n",
            "       Random value 1  Random value 2  Random value 3  Random value 4\n",
            "count        4.000000        4.000000        4.000000        4.000000\n",
            "mean        -0.207456       -0.791450       -0.783910        0.010470\n",
            "std          1.548148        0.054149        0.633746        0.309026\n",
            "min         -2.418344       -0.835665       -1.290377       -0.444424\n",
            "25%         -0.703180       -0.817744       -1.208796       -0.024036\n",
            "50%          0.317343       -0.808785       -0.975085        0.120163\n",
            "75%          0.813066       -0.782491       -0.550199        0.154669\n",
            "max          0.953834       -0.712567        0.104909        0.245979\n",
            "   Random value 1  Random value 2  Random value 3  Random value 4\n",
            "0           False           False           False           False\n",
            "1           False           False           False           False\n",
            "2           False           False           False           False\n",
            "3           False           False           False           False\n",
            "Random value 1    float64\n",
            "Random value 2    float64\n",
            "Random value 3    float64\n",
            "Random value 4    float64\n",
            "dtype: object\n",
            "\n",
            "\n",
            "Random value 2   -0.712567\n",
            "Random value 3    0.104909\n",
            "Name: 0, dtype: float64\n",
            "Random value 2   -0.835665\n",
            "Random value 3   -1.290377\n",
            "Name: 1, dtype: float64\n",
            "Random value 2   -0.805799\n",
            "Random value 3   -0.768568\n",
            "Name: 2, dtype: float64\n",
            "Random value 2   -0.811771\n",
            "Random value 3   -1.181603\n",
            "Name: 3, dtype: float64\n"
          ]
        }
      ],
      "source": [
        "import pandas as pd\n",
        "import numpy as np\n",
        "\n",
        "a=np.random.randn(4,4)\n",
        "df=pd.DataFrame(a,columns=['A','B','C','D'])\n",
        "print(df)\n",
        "\n",
        "df.rename(columns={'A':'Random value 1','B':'Random value 2','C':'Random value 3','D':'Random value 4'},inplace=True)\n",
        "print(df)\n",
        "\n",
        "print(df.describe(include='all'))\n",
        "\n",
        "print(df.isnull())\n",
        "print(df.dtypes)\n",
        "\n",
        "print('\\n')\n",
        "for i in range(len(df)):\n",
        "  print(df.loc[i,['Random value 2','Random value 3']])"
      ]
    }
  ]
}