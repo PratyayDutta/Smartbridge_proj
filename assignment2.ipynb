{
  "nbformat": 4,
  "nbformat_minor": 0,
  "metadata": {
    "colab": {
      "provenance": []
    },
    "kernelspec": {
      "name": "python3",
      "display_name": "Python 3"
    },
    "language_info": {
      "name": "python"
    }
  },
  "cells": [
    {
      "cell_type": "code",
      "execution_count": 3,
      "metadata": {
        "id": "Wf3Os0173fPa"
      },
      "outputs": [],
      "source": [
        "import numpy as np\n",
        "import pandas as pd\n",
        "import matplotlib.pyplot as plt\n",
        "import seaborn as sns"
      ]
    },
    {
      "cell_type": "code",
      "source": [
        "df=pd.read_csv('/content/drug200.csv')\n",
        "df.isnull().sum()\n",
        "print(df)"
      ],
      "metadata": {
        "colab": {
          "base_uri": "https://localhost:8080/"
        },
        "id": "g0L4ABhP7Mg-",
        "outputId": "b54755fc-9611-4a9e-8e7f-941c7425a212"
      },
      "execution_count": 4,
      "outputs": [
        {
          "output_type": "stream",
          "name": "stdout",
          "text": [
            "     Age Sex      BP Cholesterol  Na_to_K   Drug\n",
            "0     23   F    HIGH        HIGH   25.355  DrugY\n",
            "1     47   M     LOW        HIGH   13.093  drugC\n",
            "2     47   M     LOW        HIGH   10.114  drugC\n",
            "3     28   F  NORMAL        HIGH    7.798  drugX\n",
            "4     61   F     LOW        HIGH   18.043  DrugY\n",
            "..   ...  ..     ...         ...      ...    ...\n",
            "195   56   F     LOW        HIGH   11.567  drugC\n",
            "196   16   M     LOW        HIGH   12.006  drugC\n",
            "197   52   M  NORMAL        HIGH    9.894  drugX\n",
            "198   23   M  NORMAL      NORMAL   14.020  drugX\n",
            "199   40   F     LOW      NORMAL   11.349  drugX\n",
            "\n",
            "[200 rows x 6 columns]\n"
          ]
        }
      ]
    },
    {
      "cell_type": "code",
      "source": [
        "from sklearn.preprocessing import OneHotEncoder\n",
        "from sklearn.preprocessing import LabelEncoder\n",
        "le=LabelEncoder()\n",
        "df['Sex']=le.fit_transform(df['Sex'])\n",
        "df['Cholesterol']=le.fit_transform(df['Cholesterol'])\n",
        "df['BP'] = le.fit_transform(df['BP'])\n",
        "pd.unique(df['Drug'])"
      ],
      "metadata": {
        "colab": {
          "base_uri": "https://localhost:8080/"
        },
        "id": "QGdupCOA4aXU",
        "outputId": "e22fc1ee-9ad8-4f8c-d0f5-3d0f88722e8a"
      },
      "execution_count": 5,
      "outputs": [
        {
          "output_type": "execute_result",
          "data": {
            "text/plain": [
              "array(['DrugY', 'drugC', 'drugX', 'drugA', 'drugB'], dtype=object)"
            ]
          },
          "metadata": {},
          "execution_count": 5
        }
      ]
    },
    {
      "cell_type": "code",
      "source": [
        "from sklearn.model_selection import train_test_split\n",
        "\n",
        "x=df.iloc[:,0:5]\n",
        "y=pd.get_dummies(df.iloc[:,5]).values\n",
        "xtrain,xtest,ytrain,ytest = train_test_split(x,y,test_size=0.2,random_state=12)\n"
      ],
      "metadata": {
        "id": "sOFKr1SS9BKK"
      },
      "execution_count": 7,
      "outputs": []
    },
    {
      "cell_type": "code",
      "source": [
        "from tensorflow.keras.models import Sequential\n",
        "from tensorflow.keras.layers import Dense\n",
        "\n",
        "model = Sequential()\n",
        "model.add(Dense(8,input_dim=5,activation='relu'))\n",
        "#model.add(Dense(32,activation='relu'))\n",
        "model.add(Dense(26,activation='relu'))\n",
        "model.add(Dense(5,activation='softmax'))"
      ],
      "metadata": {
        "id": "Qeogc7QS-76p"
      },
      "execution_count": 6,
      "outputs": []
    },
    {
      "cell_type": "code",
      "source": [
        "model.compile(optimizer='adam',loss='categorical_crossentropy',metrics=['accuracy'])\n",
        "model.summary()"
      ],
      "metadata": {
        "colab": {
          "base_uri": "https://localhost:8080/"
        },
        "id": "r59xT-FC_JTH",
        "outputId": "0a15df68-827f-4dcd-c1fa-02a64c4aa416"
      },
      "execution_count": 8,
      "outputs": [
        {
          "output_type": "stream",
          "name": "stdout",
          "text": [
            "Model: \"sequential\"\n",
            "_________________________________________________________________\n",
            " Layer (type)                Output Shape              Param #   \n",
            "=================================================================\n",
            " dense (Dense)               (None, 8)                 48        \n",
            "                                                                 \n",
            " dense_1 (Dense)             (None, 26)                234       \n",
            "                                                                 \n",
            " dense_2 (Dense)             (None, 5)                 135       \n",
            "                                                                 \n",
            "=================================================================\n",
            "Total params: 417\n",
            "Trainable params: 417\n",
            "Non-trainable params: 0\n",
            "_________________________________________________________________\n"
          ]
        }
      ]
    },
    {
      "cell_type": "code",
      "source": [
        "model.fit(xtrain,ytrain,epochs=10,batch_size=5,validation_data=(xtest,ytest))"
      ],
      "metadata": {
        "id": "bFGfRQubGNt9",
        "outputId": "af6ce6d5-ce12-4c8a-d9e0-921ae94abf85",
        "colab": {
          "base_uri": "https://localhost:8080/"
        }
      },
      "execution_count": 9,
      "outputs": [
        {
          "output_type": "stream",
          "name": "stdout",
          "text": [
            "Epoch 1/10\n",
            "32/32 [==============================] - 1s 11ms/step - loss: 7.9490 - accuracy: 0.1937 - val_loss: 4.0672 - val_accuracy: 0.0500\n",
            "Epoch 2/10\n",
            "32/32 [==============================] - 0s 4ms/step - loss: 3.3965 - accuracy: 0.0875 - val_loss: 1.9790 - val_accuracy: 0.0750\n",
            "Epoch 3/10\n",
            "32/32 [==============================] - 0s 4ms/step - loss: 1.8799 - accuracy: 0.2625 - val_loss: 1.3955 - val_accuracy: 0.4250\n",
            "Epoch 4/10\n",
            "32/32 [==============================] - 0s 4ms/step - loss: 1.3578 - accuracy: 0.4625 - val_loss: 1.2506 - val_accuracy: 0.4250\n",
            "Epoch 5/10\n",
            "32/32 [==============================] - 0s 4ms/step - loss: 1.2034 - accuracy: 0.5188 - val_loss: 1.0966 - val_accuracy: 0.5500\n",
            "Epoch 6/10\n",
            "32/32 [==============================] - 0s 4ms/step - loss: 1.1393 - accuracy: 0.5000 - val_loss: 1.0750 - val_accuracy: 0.5500\n",
            "Epoch 7/10\n",
            "32/32 [==============================] - 0s 4ms/step - loss: 1.0960 - accuracy: 0.5250 - val_loss: 1.0161 - val_accuracy: 0.6000\n",
            "Epoch 8/10\n",
            "32/32 [==============================] - 0s 3ms/step - loss: 1.0660 - accuracy: 0.5562 - val_loss: 1.0512 - val_accuracy: 0.5500\n",
            "Epoch 9/10\n",
            "32/32 [==============================] - 0s 3ms/step - loss: 1.0450 - accuracy: 0.5125 - val_loss: 1.1359 - val_accuracy: 0.5000\n",
            "Epoch 10/10\n",
            "32/32 [==============================] - 0s 4ms/step - loss: 1.0166 - accuracy: 0.5688 - val_loss: 1.0201 - val_accuracy: 0.6000\n"
          ]
        },
        {
          "output_type": "execute_result",
          "data": {
            "text/plain": [
              "<keras.callbacks.History at 0x7f67318917e0>"
            ]
          },
          "metadata": {},
          "execution_count": 9
        }
      ]
    }
  ]
}